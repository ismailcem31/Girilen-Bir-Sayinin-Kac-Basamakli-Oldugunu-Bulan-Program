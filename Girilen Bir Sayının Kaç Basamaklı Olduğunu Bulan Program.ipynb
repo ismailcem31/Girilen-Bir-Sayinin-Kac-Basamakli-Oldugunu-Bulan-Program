{
 "cells": [
  {
   "cell_type": "code",
   "execution_count": null,
   "id": "a3dd7d61",
   "metadata": {},
   "outputs": [],
   "source": [
    "sayi_gir = input(\"Lütfen basamak sayısını merak ettiğiniz sayıyı giriniz:\")\n",
    " \n",
    "# ondalık kısmı ayır\n",
    "tam_kisim = int(float(sayi_gir))\n",
    " \n",
    "# sayı negatifse pozitife çevir\n",
    "if tam_kisim < 0:\n",
    "    tam_kisim = -tam_kisim\n",
    " \n",
    "sayac = 0\n",
    " \n",
    "while tam_kisim > 0:\n",
    "    tam_kisim = tam_kisim // 10\n",
    "    sayac += 1\n",
    " \n",
    "print(\"Girdiğiniz sayının tam kısmının basamak sayısı:\", sayac)"
   ]
  }
 ],
 "metadata": {
  "kernelspec": {
   "display_name": "Python 3 (ipykernel)",
   "language": "python",
   "name": "python3"
  },
  "language_info": {
   "codemirror_mode": {
    "name": "ipython",
    "version": 3
   },
   "file_extension": ".py",
   "mimetype": "text/x-python",
   "name": "python",
   "nbconvert_exporter": "python",
   "pygments_lexer": "ipython3",
   "version": "3.11.3"
  }
 },
 "nbformat": 4,
 "nbformat_minor": 5
}
